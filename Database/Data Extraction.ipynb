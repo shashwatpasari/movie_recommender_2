{
 "cells": [
  {
   "cell_type": "code",
   "execution_count": 1,
   "id": "f5b69a2a",
   "metadata": {},
   "outputs": [],
   "source": [
    "from requests import get\n",
    "from bs4 import BeautifulSoup as bs\n",
    "from warnings import warn\n",
    "from time import sleep\n",
    "from random import randint\n",
    "import json\n",
    "import numpy as np\n",
    "import multiprocessing"
   ]
  },
  {
   "cell_type": "markdown",
   "id": "adcef209",
   "metadata": {},
   "source": [
    "## Connecting to MongoDb"
   ]
  },
  {
   "cell_type": "code",
   "execution_count": 2,
   "id": "e94566cf",
   "metadata": {},
   "outputs": [],
   "source": [
    "import pymongo\n",
    "client=pymongo.MongoClient(\"mongodb://localhost:27017\") \n",
    "movies_db_new=client['movies_db_new']\n",
    "movies_coll=movies_db_new['movies_new_3']\n"
   ]
  },
  {
   "cell_type": "code",
   "execution_count": 75,
   "id": "6de58e8c",
   "metadata": {},
   "outputs": [],
   "source": [
    "genre_list=['action','adventure','animation','biography','comedy','crime',\n",
    "        'drama','family','fantasy','film-noir','history',\n",
    "           'horror','music','musical','mystery','sci-fi','romance',\n",
    "           'sport','thriller','war','western']"
   ]
  },
  {
   "cell_type": "code",
   "execution_count": 56,
   "id": "f0376c1d",
   "metadata": {},
   "outputs": [],
   "source": [
    "\n",
    "headers = {'Accept-Language': 'en-US,en;q=0.8'}"
   ]
  },
  {
   "cell_type": "markdown",
   "id": "b9a9d952",
   "metadata": {},
   "source": [
    "## Extracting movie info from IMDB website"
   ]
  },
  {
   "cell_type": "code",
   "execution_count": 80,
   "id": "7a11282b",
   "metadata": {},
   "outputs": [],
   "source": [
    "\n",
    "\n",
    "for genre in genre_list:\n",
    "    pages = np.arange(1, 9952, 50)\n",
    "    for page in pages:\n",
    "        \n",
    "        movie_list=[]\n",
    "        \n",
    "        response = get(\"https://www.imdb.com/search/title/?title_type=feature&genres=western&start=\"+str(page)+\"&explore=genres&ref_=adv_nxt\",headers=headers)\n",
    "        \n",
    "        \n",
    "        \n",
    "        if response.status_code != 200:\n",
    "            warn('Request: {}; Status code: {}'.format(requests, response.status_code))\n",
    "        \n",
    "        page_html = bs(response.text, 'html.parser')\n",
    "        \n",
    "        movie_container = page_html.find_all('div', class_ = 'lister-item mode-advanced')\n",
    "        \n",
    "        for container in movie_container:\n",
    "            \n",
    "            dic=dict()\n",
    "            \n",
    "            \n",
    "                \n",
    "                \n",
    "                \n",
    "            dic['title'] = container.h3.a.text\n",
    "                \n",
    "            dic['id'] = container.h3.a['href'][7:-1]\n",
    "                \n",
    "            if container.h3.find('span', class_ = 'lister-item-year text-muted unbold') is not None:\n",
    "                    \n",
    "                dic['year'] = container.h3.find('span', class_ = 'lister-item-year text-muted unbold').text[1:-1]\n",
    "                    \n",
    "            else:\n",
    "                    \n",
    "                dic['year'] = None\n",
    "                    \n",
    "            if container.p.find('span', class_ = 'runtime') is not None:\n",
    "                    \n",
    "                dic['runtime'] = container.p.find('span', class_ = 'runtime').text\n",
    "                    \n",
    "            else:\n",
    "                    \n",
    "                dic['runtime'] = None\n",
    "                    \n",
    "            if container.p.find('span', class_ = 'genre') is not None:\n",
    "                    \n",
    "                genre = container.p.find('span', class_ = 'genre').text.replace('\\n','').rstrip().split(',')\n",
    "                genre = [g.strip() for g in genre]\n",
    "                    \n",
    "                dic['genre'] = genre\n",
    "                    \n",
    "            else:\n",
    "                    \n",
    "                dic['genre'] = None\n",
    "                    \n",
    "            if container.find('p', class_ ='') is not None:\n",
    "                    \n",
    "                cast_html = container.find('p', class_ ='').find_all('a')[1:]\n",
    "                cast=[]\n",
    "                for i in cast_html:\n",
    "                    cast.append(i.text.strip())\n",
    "                        \n",
    "                    \n",
    "                dic['cast'] = cast\n",
    "                    \n",
    "            else:\n",
    "                    \n",
    "                dic['cast'] = None\n",
    "                    \n",
    "                \n",
    "                \n",
    "            movie_list.append(dic)\n",
    "            \n",
    "        if movie_list:\n",
    "                \n",
    "            movies_coll.insert_many(movie_list)\n",
    "            \n",
    "        else:\n",
    "            break\n",
    "        \n",
    "    break\n",
    "                    \n"
   ]
  },
  {
   "cell_type": "markdown",
   "id": "0aed90c2",
   "metadata": {},
   "source": [
    "## Extracting movie keywords from TMDB API"
   ]
  },
  {
   "cell_type": "code",
   "execution_count": 4,
   "id": "3ed3930c",
   "metadata": {},
   "outputs": [],
   "source": [
    "\n",
    "    \n",
    "for movie_info in list(movies_coll.find()):\n",
    "    \n",
    "    tmdb_response = get(\"https://api.themoviedb.org/3/movie/\"+movie_info['tmdb_id']+\"/keywords?api_key=ab8914eb7b88355eadb1c85b341016e3\")\n",
    "    \n",
    "    if tmdb_response.status_code == 200:\n",
    "                    \n",
    "        tmdb_json = json.loads(tmdb_response.content)\n",
    "        \n",
    "        if tmdb_json['keywords']:\n",
    "            \n",
    "            keywords=[]\n",
    "            \n",
    "            for keyword in tmdb_json['keywords']:\n",
    "                keywords.append(keyword['name'])\n",
    "                \n",
    "                  \n",
    "            movies_coll.update_one(movie_info, { \"$set\": { \"keywords\": keywords } })\n",
    "            \n",
    "        else:\n",
    "            \n",
    "            movies_coll.delete_one(movie_info)\n",
    "    \n",
    "\n"
   ]
  },
  {
   "cell_type": "markdown",
   "id": "40658760",
   "metadata": {},
   "source": [
    "## Extracting language, overview and image of movies from TMDB API"
   ]
  },
  {
   "cell_type": "code",
   "execution_count": 1,
   "id": "fbbfee5c",
   "metadata": {},
   "outputs": [
    {
     "ename": "IndentationError",
     "evalue": "unexpected indent (4134970124.py, line 3)",
     "output_type": "error",
     "traceback": [
      "\u001b[1;36m  File \u001b[1;32m\"C:\\Users\\KIIT\\AppData\\Local\\Temp\\ipykernel_19344\\4134970124.py\"\u001b[1;36m, line \u001b[1;32m3\u001b[0m\n\u001b[1;33m    if tmdb_response.status_code == 200:\u001b[0m\n\u001b[1;37m    ^\u001b[0m\n\u001b[1;31mIndentationError\u001b[0m\u001b[1;31m:\u001b[0m unexpected indent\n"
     ]
    }
   ],
   "source": [
    "tmdb_response = get(\"https://api.themoviedb.org/3/find/\"+dic['id']+\"?api_key=ab8914eb7b88355eadb1c85b341016e3&language=en-US&external_source=imdb_id\")\n",
    "                \n",
    "                if tmdb_response.status_code == 200:\n",
    "                    \n",
    "                    tmdb_json = json.loads(tmdb_response.content)\n",
    "                    \n",
    "                    if tmdb_json['movie_results']:\n",
    "                        \n",
    "                        dic['lang'] = tmdb_json['movie_results'][0]['original_language']\n",
    "                    \n",
    "                        dic['overview'] = tmdb_json['movie_results'][0]['overview']\n",
    "                    \n",
    "                else:\n",
    "                    \n",
    "                    dic['lang'] = None\n",
    "                    \n",
    "                    dic['overview'] = None\n",
    "                    \n",
    "                image = get(\"https://www.imdb.com/title/\"+dic['id']+\"/\")\n",
    "                \n",
    "                if image.status_code == 200:\n",
    "                    \n",
    "                    image=bs(image.content,'html.parser')\n",
    "                    \n",
    "                    dic['image'] = image.find('meta',attrs={'property':\"og:image\"})['content']\n",
    "                    \n",
    "                else:\n",
    "                    \n",
    "                    dic['image'] = None\n",
    "                    "
   ]
  },
  {
   "cell_type": "code",
   "execution_count": null,
   "id": "89c0648c",
   "metadata": {},
   "outputs": [],
   "source": []
  }
 ],
 "metadata": {
  "kernelspec": {
   "display_name": "Python 3 (ipykernel)",
   "language": "python",
   "name": "python3"
  },
  "language_info": {
   "codemirror_mode": {
    "name": "ipython",
    "version": 3
   },
   "file_extension": ".py",
   "mimetype": "text/x-python",
   "name": "python",
   "nbconvert_exporter": "python",
   "pygments_lexer": "ipython3",
   "version": "3.9.7"
  }
 },
 "nbformat": 4,
 "nbformat_minor": 5
}
